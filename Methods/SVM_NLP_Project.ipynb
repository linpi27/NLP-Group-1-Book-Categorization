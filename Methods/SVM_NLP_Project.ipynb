{
  "nbformat": 4,
  "nbformat_minor": 0,
  "metadata": {
    "colab": {
      "provenance": []
    },
    "kernelspec": {
      "name": "python3",
      "display_name": "Python 3"
    },
    "language_info": {
      "name": "python"
    }
  },
  "cells": [
    {
      "cell_type": "markdown",
      "source": [
        "\n",
        "#Import Necessary Libraries\n"
      ],
      "metadata": {
        "id": "zeElZYjc6Nl0"
      }
    },
    {
      "cell_type": "code",
      "execution_count": 1,
      "metadata": {
        "colab": {
          "base_uri": "https://localhost:8080/"
        },
        "id": "LBZECi-Q4rq-",
        "outputId": "d86195b7-84fb-4e29-9fe2-fa0f851ec017"
      },
      "outputs": [
        {
          "output_type": "stream",
          "name": "stderr",
          "text": [
            "[nltk_data] Downloading package punkt_tab to /root/nltk_data...\n",
            "[nltk_data]   Package punkt_tab is already up-to-date!\n"
          ]
        },
        {
          "output_type": "execute_result",
          "data": {
            "text/plain": [
              "True"
            ]
          },
          "metadata": {},
          "execution_count": 1
        }
      ],
      "source": [
        "from sklearn.svm import LinearSVC\n",
        "import re\n",
        "import nltk\n",
        "from sklearn.manifold import TSNE\n",
        "from sklearn.decomposition import PCA\n",
        "from sklearn import metrics\n",
        "from sklearn.model_selection import cross_validate\n",
        "\n",
        "nltk.download('punkt_tab')\n"
      ]
    },
    {
      "cell_type": "code",
      "source": [
        " !pip install --upgrade gensim\n",
        " # I had to do this becuase it was givng me an error that nltk and gensim weren't working together."
      ],
      "metadata": {
        "colab": {
          "base_uri": "https://localhost:8080/"
        },
        "id": "cXFai1AaZOWT",
        "outputId": "885287d7-9dc9-49d5-888f-80bd40d1e3ed"
      },
      "execution_count": 2,
      "outputs": [
        {
          "output_type": "stream",
          "name": "stdout",
          "text": [
            "Requirement already satisfied: gensim in /usr/local/lib/python3.11/dist-packages (4.3.3)\n",
            "Requirement already satisfied: numpy<2.0,>=1.18.5 in /usr/local/lib/python3.11/dist-packages (from gensim) (1.26.4)\n",
            "Requirement already satisfied: scipy<1.14.0,>=1.7.0 in /usr/local/lib/python3.11/dist-packages (from gensim) (1.13.1)\n",
            "Requirement already satisfied: smart-open>=1.8.1 in /usr/local/lib/python3.11/dist-packages (from gensim) (7.1.0)\n",
            "Requirement already satisfied: wrapt in /usr/local/lib/python3.11/dist-packages (from smart-open>=1.8.1->gensim) (1.17.2)\n"
          ]
        }
      ]
    },
    {
      "cell_type": "code",
      "source": [
        "import gensim\n",
        "import numpy as np\n",
        "from gensim.models import Word2Vec"
      ],
      "metadata": {
        "id": "_F1sVccSZeOs"
      },
      "execution_count": 3,
      "outputs": []
    },
    {
      "cell_type": "markdown",
      "source": [
        "# Reading in Data"
      ],
      "metadata": {
        "id": "1Dnb5kgS6YkI"
      }
    },
    {
      "cell_type": "code",
      "source": [
        "#Importing trainging and testing data from computer\n",
        "from google.colab import files\n",
        "uploaded = files.upload()"
      ],
      "metadata": {
        "colab": {
          "base_uri": "https://localhost:8080/",
          "height": 108
        },
        "id": "RbCBoTsu6bc-",
        "outputId": "1246f88e-ab26-4055-a015-3305861003ce"
      },
      "execution_count": 6,
      "outputs": [
        {
          "output_type": "display_data",
          "data": {
            "text/plain": [
              "<IPython.core.display.HTML object>"
            ],
            "text/html": [
              "\n",
              "     <input type=\"file\" id=\"files-7956a8b0-d6d3-45ed-925e-d11ce23acc93\" name=\"files[]\" multiple disabled\n",
              "        style=\"border:none\" />\n",
              "     <output id=\"result-7956a8b0-d6d3-45ed-925e-d11ce23acc93\">\n",
              "      Upload widget is only available when the cell has been executed in the\n",
              "      current browser session. Please rerun this cell to enable.\n",
              "      </output>\n",
              "      <script>// Copyright 2017 Google LLC\n",
              "//\n",
              "// Licensed under the Apache License, Version 2.0 (the \"License\");\n",
              "// you may not use this file except in compliance with the License.\n",
              "// You may obtain a copy of the License at\n",
              "//\n",
              "//      http://www.apache.org/licenses/LICENSE-2.0\n",
              "//\n",
              "// Unless required by applicable law or agreed to in writing, software\n",
              "// distributed under the License is distributed on an \"AS IS\" BASIS,\n",
              "// WITHOUT WARRANTIES OR CONDITIONS OF ANY KIND, either express or implied.\n",
              "// See the License for the specific language governing permissions and\n",
              "// limitations under the License.\n",
              "\n",
              "/**\n",
              " * @fileoverview Helpers for google.colab Python module.\n",
              " */\n",
              "(function(scope) {\n",
              "function span(text, styleAttributes = {}) {\n",
              "  const element = document.createElement('span');\n",
              "  element.textContent = text;\n",
              "  for (const key of Object.keys(styleAttributes)) {\n",
              "    element.style[key] = styleAttributes[key];\n",
              "  }\n",
              "  return element;\n",
              "}\n",
              "\n",
              "// Max number of bytes which will be uploaded at a time.\n",
              "const MAX_PAYLOAD_SIZE = 100 * 1024;\n",
              "\n",
              "function _uploadFiles(inputId, outputId) {\n",
              "  const steps = uploadFilesStep(inputId, outputId);\n",
              "  const outputElement = document.getElementById(outputId);\n",
              "  // Cache steps on the outputElement to make it available for the next call\n",
              "  // to uploadFilesContinue from Python.\n",
              "  outputElement.steps = steps;\n",
              "\n",
              "  return _uploadFilesContinue(outputId);\n",
              "}\n",
              "\n",
              "// This is roughly an async generator (not supported in the browser yet),\n",
              "// where there are multiple asynchronous steps and the Python side is going\n",
              "// to poll for completion of each step.\n",
              "// This uses a Promise to block the python side on completion of each step,\n",
              "// then passes the result of the previous step as the input to the next step.\n",
              "function _uploadFilesContinue(outputId) {\n",
              "  const outputElement = document.getElementById(outputId);\n",
              "  const steps = outputElement.steps;\n",
              "\n",
              "  const next = steps.next(outputElement.lastPromiseValue);\n",
              "  return Promise.resolve(next.value.promise).then((value) => {\n",
              "    // Cache the last promise value to make it available to the next\n",
              "    // step of the generator.\n",
              "    outputElement.lastPromiseValue = value;\n",
              "    return next.value.response;\n",
              "  });\n",
              "}\n",
              "\n",
              "/**\n",
              " * Generator function which is called between each async step of the upload\n",
              " * process.\n",
              " * @param {string} inputId Element ID of the input file picker element.\n",
              " * @param {string} outputId Element ID of the output display.\n",
              " * @return {!Iterable<!Object>} Iterable of next steps.\n",
              " */\n",
              "function* uploadFilesStep(inputId, outputId) {\n",
              "  const inputElement = document.getElementById(inputId);\n",
              "  inputElement.disabled = false;\n",
              "\n",
              "  const outputElement = document.getElementById(outputId);\n",
              "  outputElement.innerHTML = '';\n",
              "\n",
              "  const pickedPromise = new Promise((resolve) => {\n",
              "    inputElement.addEventListener('change', (e) => {\n",
              "      resolve(e.target.files);\n",
              "    });\n",
              "  });\n",
              "\n",
              "  const cancel = document.createElement('button');\n",
              "  inputElement.parentElement.appendChild(cancel);\n",
              "  cancel.textContent = 'Cancel upload';\n",
              "  const cancelPromise = new Promise((resolve) => {\n",
              "    cancel.onclick = () => {\n",
              "      resolve(null);\n",
              "    };\n",
              "  });\n",
              "\n",
              "  // Wait for the user to pick the files.\n",
              "  const files = yield {\n",
              "    promise: Promise.race([pickedPromise, cancelPromise]),\n",
              "    response: {\n",
              "      action: 'starting',\n",
              "    }\n",
              "  };\n",
              "\n",
              "  cancel.remove();\n",
              "\n",
              "  // Disable the input element since further picks are not allowed.\n",
              "  inputElement.disabled = true;\n",
              "\n",
              "  if (!files) {\n",
              "    return {\n",
              "      response: {\n",
              "        action: 'complete',\n",
              "      }\n",
              "    };\n",
              "  }\n",
              "\n",
              "  for (const file of files) {\n",
              "    const li = document.createElement('li');\n",
              "    li.append(span(file.name, {fontWeight: 'bold'}));\n",
              "    li.append(span(\n",
              "        `(${file.type || 'n/a'}) - ${file.size} bytes, ` +\n",
              "        `last modified: ${\n",
              "            file.lastModifiedDate ? file.lastModifiedDate.toLocaleDateString() :\n",
              "                                    'n/a'} - `));\n",
              "    const percent = span('0% done');\n",
              "    li.appendChild(percent);\n",
              "\n",
              "    outputElement.appendChild(li);\n",
              "\n",
              "    const fileDataPromise = new Promise((resolve) => {\n",
              "      const reader = new FileReader();\n",
              "      reader.onload = (e) => {\n",
              "        resolve(e.target.result);\n",
              "      };\n",
              "      reader.readAsArrayBuffer(file);\n",
              "    });\n",
              "    // Wait for the data to be ready.\n",
              "    let fileData = yield {\n",
              "      promise: fileDataPromise,\n",
              "      response: {\n",
              "        action: 'continue',\n",
              "      }\n",
              "    };\n",
              "\n",
              "    // Use a chunked sending to avoid message size limits. See b/62115660.\n",
              "    let position = 0;\n",
              "    do {\n",
              "      const length = Math.min(fileData.byteLength - position, MAX_PAYLOAD_SIZE);\n",
              "      const chunk = new Uint8Array(fileData, position, length);\n",
              "      position += length;\n",
              "\n",
              "      const base64 = btoa(String.fromCharCode.apply(null, chunk));\n",
              "      yield {\n",
              "        response: {\n",
              "          action: 'append',\n",
              "          file: file.name,\n",
              "          data: base64,\n",
              "        },\n",
              "      };\n",
              "\n",
              "      let percentDone = fileData.byteLength === 0 ?\n",
              "          100 :\n",
              "          Math.round((position / fileData.byteLength) * 100);\n",
              "      percent.textContent = `${percentDone}% done`;\n",
              "\n",
              "    } while (position < fileData.byteLength);\n",
              "  }\n",
              "\n",
              "  // All done.\n",
              "  yield {\n",
              "    response: {\n",
              "      action: 'complete',\n",
              "    }\n",
              "  };\n",
              "}\n",
              "\n",
              "scope.google = scope.google || {};\n",
              "scope.google.colab = scope.google.colab || {};\n",
              "scope.google.colab._files = {\n",
              "  _uploadFiles,\n",
              "  _uploadFilesContinue,\n",
              "};\n",
              "})(self);\n",
              "</script> "
            ]
          },
          "metadata": {}
        },
        {
          "output_type": "stream",
          "name": "stdout",
          "text": [
            "Saving 1600_strat_samp_test.csv to 1600_strat_samp_test.csv\n",
            "Saving 14400_strat_samp_training.csv to 14400_strat_samp_training.csv\n"
          ]
        }
      ]
    },
    {
      "cell_type": "code",
      "source": [
        "#reading in training data\n",
        "import pandas as pd\n",
        "df = pd.read_csv(\"14400_strat_samp_training.csv\")\n",
        "#df.head()\n",
        "\n",
        "#storing training reviews\n",
        "review_text = df.loc[:, \"review/text\"]\n",
        "\n",
        "#storing genres\n",
        "genres = df.loc[:, \"categories\"]\n",
        "\n",
        "#reading in testing data\n",
        "df = pd.read_csv(\"1600_strat_samp_test.csv\")\n",
        "\n",
        "#storing testing reviews\n",
        "test_review_text = df.loc[:, \"review/text\"]\n",
        "\n",
        "#storing genres\n",
        "test_genres = df.loc[:, \"categories\"]\n"
      ],
      "metadata": {
        "id": "IuyDnVzT8n65"
      },
      "execution_count": 7,
      "outputs": []
    },
    {
      "cell_type": "markdown",
      "source": [
        "# Pre-processing Text"
      ],
      "metadata": {
        "id": "vi4MX0gVkysH"
      }
    },
    {
      "cell_type": "code",
      "source": [
        "#tokenize training reviews\n",
        "tokenized_reviews = []\n",
        "\n",
        "for i in review_text:\n",
        "  tokText = nltk.word_tokenize(i)\n",
        "  tokenized_reviews.append(tokText)\n",
        "\n",
        "#tokenize test reviews\n",
        "test_tokenized_reviews = []\n",
        "\n",
        "for i in test_review_text:\n",
        "  tokText = nltk.word_tokenize(i)\n",
        "  test_tokenized_reviews.append(tokText)"
      ],
      "metadata": {
        "id": "pP6IXoZCk2Qe"
      },
      "execution_count": 8,
      "outputs": []
    },
    {
      "cell_type": "code",
      "source": [
        "#testing tokeinzation\n",
        "print(tokenized_reviews[1000])\n",
        "print(tokenized_reviews[5])\n",
        "\n",
        "print(test_tokenized_reviews[1000])\n",
        "print(test_tokenized_reviews[5])"
      ],
      "metadata": {
        "colab": {
          "base_uri": "https://localhost:8080/"
        },
        "id": "m3JI_ZeRlul8",
        "outputId": "3e8d6cba-ab5f-48cd-fa5f-81d4aed5f214"
      },
      "execution_count": 9,
      "outputs": [
        {
          "output_type": "stream",
          "name": "stdout",
          "text": [
            "['There', 'are', 'several', 'altered', 'versions', 'of', 'Thayer', \"'s\", 'classic', 'poem', 'in', 'existance.This', 'book', 'uses', 'one', 'of', 'them.I', 'love', 'this', 'poem', ',', 'and', 'I', 'wish', 'the', 'author', 'had', 'stuck', 'with', 'the', 'original.Especially', 'when', 'Ernest', 'Lawrence', 'Thayer', 'is', 'listed', 'as', 'the', 'author', '!', 'Also-', 'the', 'images', 'of', 'Casey', 'and', 'the', 'spectators', 'are', 'of', 'modernday', 'participants', '.', 'Casey', 'is', 'wearing', 'a', 'helmet', 'and', 'his', 'name', 'andnumber', 'are', 'on', 'the', 'back', 'of', 'his', 'uniform', '.', 'Not', 'like', 'a', 'playerin', '1888', 'at', 'all.Leroy', 'Neiman', 'is', 'a', 'great', 'artist', ',', 'and', 'that', 'is', 'the', 'only', 'reason', 'I', 'give', 'this2', 'stars', '.']\n",
            "['It', \"'s\", 'very', 'difficult', 'to', 'look', 'up', 'anything', '--', 'you', 'have', 'be', 'able', 'to', 'decide', 'correctly', 'in', 'which', 'division', 'your', 'query', 'may', 'fit', '--', 'the', 'book', 'is', 'divided', 'into', 'five', 'parts', '--', 'then', 'turn', 'to', 'it', 'and', 'hope', 'it', 'will', 'be', 'included', '.', 'Try', ',', 'for', 'example', ',', 'to', 'research', '&', 'quot', ';', 'scoliosis.', '&', 'quot', ';', 'The', 'next', 'edition', 'should', 'include', 'a', 'complete', 'index', '.']\n",
            "['This', 'question', 'was', 'asked', 'in', 'Britain', \"'s\", 'parliament', 'about', 'the', 'hugely', 'successful', 'and', 'wealthly', 'whaling', 'industry', 'on', 'Nantucket', 'Island', '.', 'It', 'could', 'have', 'been', 'asked', 'about', 'the', 'Sperm', 'whale', ',', 'or', 'more', 'immediately', ',', 'about', 'Nathaniel', 'Philbrick', \"'s\", 'book', 'itself', '.', 'IN', 'THE', 'HEART', 'OF', 'THE', 'SEA', ':', 'The', 'Tragedy', 'of', 'The', 'Whaleship', 'Essex', 'is', 'a', 'well', 'written', 'tale', 'of', 'a', 'shipwreck', ',', 'all', 'the', 'more', 'absorbing', 'because', 'it', \"'s\", 'no', \"'fish\", 'story', \"'\", '-', 'every', 'word', 'is', 'true', '.', 'It', 'is', 'history', 'and', 'also', 'travelogue', ';', 'a', 'drama', 'of', 'human', 'survival', ';', 'it', 'tells', 'of', 'Quakers', ',', 'Wampanoag', 'Indians', ',', 'English', 'settlers', 'and', 'free', 'blacks', ';', 'we', 'learn', 'all', 'about', 'sailing', 'on', 'the', 'high', 'seas', ',', 'the', 'whaling', 'industry', ',', 'and', 'what', 'life', 'was', 'like', 'on', 'Nantucket.A', 'visit', 'to', 'the', 'whaling', 'museum', 'in', 'nearby', 'New', 'Bedford', 'shows', 'how', 'economically', 'important', 'the', 'industry', 'was', 'to', 'the', 'area', 'in', 'the', 'past', '.', 'It', 'was', 'also', 'culturally', 'significant', ',', 'providing', 'the', 'background', 'for', 'one', 'of', 'our', 'greatest', 'novels', '-', 'Herman', 'Melville', \"'s\", 'MOBY-DICK', '.', 'The', 'Seaman', \"'s\", 'Bethel', 'mentioned', 'in', 'MOBY-DICK', 'is', 'still', 'there', ',', 'just', 'across', 'the', 'street', 'from', 'the', 'museum', '.', 'The', 'story', 'of', 'the', 'Essex', 'provided', 'Melville', 'with', 'the', 'idea', 'for', 'his', 'main', 'character', '-', 'not', 'Ahab', ',', 'but', 'the', 'whale', '.', 'Not', 'only', 'Melville', '.', 'Philbrick', 'uses', 'two', 'accounts', 'by', 'Essex', 'survivors', '-', 'first', 'mate', 'Owen', 'Chase', 'and', 'cabin', 'boy', 'Thomas', 'Nickerson', '-', 'as', 'sources', '.', 'He', 'weaves', 'them', 'together', 'with', 'his', 'own', 'writings', 'on', 'the', 'sea', 'and', 'knowledge', 'of', 'Nantucket', 'to', 'provide', 'us', 'with', 'a', 'harrowing', 'but', 'immensely', 'readable', 'tale.Although', 'the', 'central', 'tragedy', 'in', 'this', 'book', 'tempts', 'us', 'to', 'make', 'bon', 'mots', 'such', 'as', 'this', 'being', 'a', 'book', 'that', \"'you\", 'can', 'sink', 'your', 'teeth', 'into', \"'\", ',', 'this', 'trivializes', 'it', '.', 'There', 'are', 'no', 'Epicurean', 'feasts', 'here', '.', 'The', 'repast', 'that', 'the', 'men', 'sustained', 'themselves', 'on', 'was', 'something', 'not', 'normally', 'considered', 'palatable', '.', 'After', 'being', 'shipwrecked', ',', 'they', 'survived', 'by', 'feeding', 'on', 'human', 'flesh', ';', 'they', 'were', 'forced', 'to', 'resort', 'to', 'cannibalism', '.', 'Unlike', 'Moby-Dick', 'where', 'the', 'sinking', 'of', 'the', 'ship', 'was', 'the', 'conclusion', 'of', 'the', 'story', ',', 'here', 'it', 'only', 'marks', 'the', 'beginning', 'of', 'the', 'real', 'tragedy.The', 'Essex', 'was', 'rammed', 'and', 'sunk', 'by', 'a', 'Sperm', 'whale', ',', 'going', 'down', 'in', 'the', 'South', 'Pacific', '.', 'Philbrick', 'tells', 'of', 'how', 'the', '20', 'man', 'crew', 'of', 'the', 'Essex', 'made', 'it', 'into', 'three', 'small', 'whaleboats', 'which', 'they', 'were', 'able', 'to', 'rig', 'with', 'sail', '.', 'The', 'nearest', 'land', 'were', 'the', 'Marquesas', 'Islands', ',', 'about', '1,200', 'miles', 'due', 'west', ',', 'with', 'the', 'prevailing', 'wind', '.', 'Due', 'East', ',', 'against', 'the', 'wind', 'and', '2,000', 'miles', 'away', 'was', 'South', 'Amerca', '.', 'The', 'men', 'decided', 'to', 'head', 'East', '.', 'That', 'they', 'did', 'so', 'is', 'understandable', 'only', 'in', 'the', 'context', 'of', 'the', 'times', 'and', 'the', 'thinking', 'of', 'the', 'men', '.', 'Philbrick', 'says', 'plainly', ',', 'that', 'because', 'of', 'Xenophobic', 'fears', 'and', 'belief', 'in', 'rumours', ',', 'the', 'officers', 'of', 'the', 'Essex', 'were', 'convinced', 'that', 'the', 'unknown', 'island', 'inhabitants', 'of', 'the', 'Marquesas', 'were', 'cannibals', '.', 'There', 'was', 'nothing', 'to', 'fear', 'about', 'South', 'America', '.', 'Heading', 'toward', 'mainland', 'set', 'them', 'on', 'a', 'three', 'month', 'voyage', 'that', 'in', 'a', 'cruel', 'irony', 'of', 'history', 'would', 'see', 'the', 'very', 'thing', 'that', 'the', 'men', 'feared', 'the', 'most', '-', 'cannibalism', '-', 'becoming', 'a', 'reality', ',', 'at', 'their', 'own', 'hands.Philbrick', \"'s\", 'tale', 'of', 'survival', 'at', 'sea', ',', 'the', 'desperate', 'situation', 'these', 'men', 'found', 'themselves', 'in', ',', 'and', 'the', 'final', 'acts', 'of', 'self', 'preservation', 'that', 'they', 'were', 'forced', 'to', 'resort', 'to', ',', 'is', 'a', 'pretty', 'grim', 'acount', '.', 'Nevertheless', 'it', 'is', 'a', \"'can't-put-down\", \"'\", 'powerful', 'and', 'poignant', 'story', 'and', 'an', 'example', 'of', 'why', 'popular', 'history', 'is', 'so', '...', 'well', ',', 'popular', '.']\n",
            "['Foundation', 'is', 'completely', 'a', 'story', 'of', 'ideas', ',', 'the', 'characters', 'are', 'completely', 'servants', 'to', 'the', 'scifi', 'galaxy', 'Asimov', 'has', 'created', '.', 'The', 'story', 'is', 'of', 'a', 'galaxy', 'in', 'a', 'situation', 'and', 'not', 'a', 'character', 'in', 'a', 'situation', '.', 'I', 'think', 'the', 'idea', 'he', 'created', 'was', 'amazing', 'but', 'I', 'prefer', 'stories', 'about', 'characters', 'and', 'because', 'he', 'originally', 'wrote', 'the', 'stories', 'for', 'a', 'magazine', 'and', 'later', 'combined', 'them', 'which', 'destroyed', 'the', 'flow', 'of', 'the', 'storyRich']\n"
          ]
        }
      ]
    },
    {
      "cell_type": "markdown",
      "source": [
        "# Building Word2Vec Model"
      ],
      "metadata": {
        "id": "T7i7k9Cxl1pT"
      }
    },
    {
      "cell_type": "markdown",
      "source": [
        "This code was taken from one of the labs."
      ],
      "metadata": {
        "id": "ozLaPZ5feMr8"
      }
    },
    {
      "cell_type": "code",
      "source": [
        "!wget https://github.com/eyaler/word2vec-slim/raw/refs/heads/master/GoogleNews-vectors-negative300-SLIM.bin.gz"
      ],
      "metadata": {
        "colab": {
          "base_uri": "https://localhost:8080/"
        },
        "id": "MIFNWGTYl51b",
        "outputId": "454bf269-fb59-47ec-a914-339c0c37c0bb"
      },
      "execution_count": 10,
      "outputs": [
        {
          "output_type": "stream",
          "name": "stdout",
          "text": [
            "--2025-05-10 00:18:36--  https://github.com/eyaler/word2vec-slim/raw/refs/heads/master/GoogleNews-vectors-negative300-SLIM.bin.gz\n",
            "Resolving github.com (github.com)... 140.82.114.3\n",
            "Connecting to github.com (github.com)|140.82.114.3|:443... connected.\n",
            "HTTP request sent, awaiting response... 302 Found\n",
            "Location: https://media.githubusercontent.com/media/eyaler/word2vec-slim/refs/heads/master/GoogleNews-vectors-negative300-SLIM.bin.gz [following]\n",
            "--2025-05-10 00:18:36--  https://media.githubusercontent.com/media/eyaler/word2vec-slim/refs/heads/master/GoogleNews-vectors-negative300-SLIM.bin.gz\n",
            "Resolving media.githubusercontent.com (media.githubusercontent.com)... 185.199.108.133, 185.199.109.133, 185.199.110.133, ...\n",
            "Connecting to media.githubusercontent.com (media.githubusercontent.com)|185.199.108.133|:443... connected.\n",
            "HTTP request sent, awaiting response... 200 OK\n",
            "Length: 276467217 (264M) [application/octet-stream]\n",
            "Saving to: ‘GoogleNews-vectors-negative300-SLIM.bin.gz’\n",
            "\n",
            "GoogleNews-vectors- 100%[===================>] 263.66M   242MB/s    in 1.1s    \n",
            "\n",
            "2025-05-10 00:18:51 (242 MB/s) - ‘GoogleNews-vectors-negative300-SLIM.bin.gz’ saved [276467217/276467217]\n",
            "\n"
          ]
        }
      ]
    },
    {
      "cell_type": "code",
      "source": [
        "bigmodel = gensim.models.KeyedVectors.load_word2vec_format(\"GoogleNews-vectors-negative300-SLIM.bin.gz\", binary=True)\n",
        "print(\"big model loaded!\")"
      ],
      "metadata": {
        "colab": {
          "base_uri": "https://localhost:8080/"
        },
        "id": "xTYcBAPhoCzG",
        "outputId": "43ee4bc3-fa24-46e5-e90d-056b1616e4fd"
      },
      "execution_count": 11,
      "outputs": [
        {
          "output_type": "stream",
          "name": "stdout",
          "text": [
            "big model loaded!\n"
          ]
        }
      ]
    },
    {
      "cell_type": "markdown",
      "source": [
        "#Vectorize Reviews"
      ],
      "metadata": {
        "id": "DPi3X5r5-SYE"
      }
    },
    {
      "cell_type": "code",
      "source": [
        "#needed to average each review, so madee a function to do so\n",
        "def vectorize_review(tokens, model):\n",
        "    vectors = [model[word] for word in tokens if word in model]\n",
        "    if vectors:\n",
        "        return np.mean(vectors, axis=0)\n",
        "    else:\n",
        "        return np.zeros(model.vector_size)"
      ],
      "metadata": {
        "id": "mTmgnQcFoH6H"
      },
      "execution_count": 12,
      "outputs": []
    },
    {
      "cell_type": "code",
      "source": [
        "#vectorize training\n",
        "review_vectors = []\n",
        "\n",
        "for tokens in tokenized_reviews:\n",
        "    vector = vectorize_review(tokens, bigmodel)\n",
        "    review_vectors.append(vector)\n",
        "\n",
        "#storing reviews and genres for later\n",
        "X = np.vstack(review_vectors)\n",
        "y = genres.values\n",
        "\n",
        "#vectorize testing\n",
        "test_review_vectors = []\n",
        "\n",
        "for tokens in test_tokenized_reviews:\n",
        "    vector = vectorize_review(tokens, bigmodel)\n",
        "    test_review_vectors.append(vector)\n",
        "\n",
        "#storing reviews and genres for later\n",
        "X_test = np.vstack(test_review_vectors)\n",
        "y_test = test_genres.values"
      ],
      "metadata": {
        "id": "xgwuVGP8BvGK"
      },
      "execution_count": 13,
      "outputs": []
    },
    {
      "cell_type": "code",
      "source": [
        "#used LabelEncoder so SVM can categorize properly\n",
        "from sklearn.preprocessing import LabelEncoder\n",
        "\n",
        "label_encoder = LabelEncoder()\n",
        "y_encoded = label_encoder.fit_transform(y)\n",
        "y_test_encoded = label_encoder.transform(y_test)"
      ],
      "metadata": {
        "id": "GSI4DpUhB9tQ"
      },
      "execution_count": 14,
      "outputs": []
    },
    {
      "cell_type": "markdown",
      "source": [
        "# Training!"
      ],
      "metadata": {
        "id": "lmlGR3yoHDox"
      }
    },
    {
      "cell_type": "code",
      "source": [
        "#training SVM with training data, fit it with the training data and genres\n",
        "svm = LinearSVC(random_state=0, tol=1e-5)\n",
        "svm.fit(X, y_encoded)\n",
        "y_pred = svm.predict(X)\n",
        "\n",
        "from sklearn.metrics import accuracy_score, precision_score, recall_score, f1_score\n",
        "\n",
        "print(\"Accuracy:\", accuracy_score(y_encoded, y_pred))\n",
        "print(\"Precision:\", precision_score(y_encoded, y_pred, average='weighted', zero_division=0))\n",
        "print(\"Recall:\", recall_score(y_encoded, y_pred, average='weighted', zero_division=0))\n",
        "print(\"F1 Score:\", f1_score(y_encoded, y_pred, average='weighted', zero_division=0))"
      ],
      "metadata": {
        "colab": {
          "base_uri": "https://localhost:8080/"
        },
        "id": "sE9LaHjMICSX",
        "outputId": "cccade15-bf03-46ce-8c48-e634e91fe1e9"
      },
      "execution_count": 15,
      "outputs": [
        {
          "output_type": "stream",
          "name": "stdout",
          "text": [
            "Accuracy: 0.6497916666666667\n",
            "Precision: 0.6503906056218046\n",
            "Recall: 0.6497916666666667\n",
            "F1 Score: 0.6387778082594138\n"
          ]
        }
      ]
    },
    {
      "cell_type": "markdown",
      "source": [
        "# Testing!"
      ],
      "metadata": {
        "id": "XuyzBWCV6RGN"
      }
    },
    {
      "cell_type": "code",
      "source": [
        "#testing, fit it with the training data and genres\n",
        "y_pred = svm.predict(X_test)\n",
        "\n",
        "print(\"Accuracy:\", accuracy_score(y_test_encoded, y_pred))\n",
        "print(\"Precision:\", precision_score(y_test_encoded, y_pred, average='weighted', zero_division=0))\n",
        "print(\"Recall:\", recall_score(y_test_encoded, y_pred, average='weighted', zero_division=0))\n",
        "print(\"F1 Score:\", f1_score(y_test_encoded, y_pred, average='weighted', zero_division=0))\n"
      ],
      "metadata": {
        "colab": {
          "base_uri": "https://localhost:8080/"
        },
        "id": "qZt2Pq-B3u8t",
        "outputId": "7debe97e-e549-4d9b-c6cc-cf6b9a8dbc06"
      },
      "execution_count": 16,
      "outputs": [
        {
          "output_type": "stream",
          "name": "stdout",
          "text": [
            "Accuracy: 0.5875\n",
            "Precision: 0.5767635659839537\n",
            "Recall: 0.5875\n",
            "F1 Score: 0.5543716751856458\n"
          ]
        }
      ]
    },
    {
      "cell_type": "code",
      "source": [
        "from sklearn.metrics import classification_report\n",
        "import pandas as pd\n",
        "\n",
        "# Get the classification report as a dictionary\n",
        "report = classification_report(y_test_encoded, y_pred, target_names=label_encoder.classes_, output_dict=True)\n",
        "\n",
        "# Convert to DataFrame for easier plotting\n",
        "report_df = pd.DataFrame(report).transpose()\n",
        "\n",
        "genre_metrics = report_df.iloc[:-3]\n",
        "\n",
        "import matplotlib.pyplot as plt\n",
        "\n",
        "# Plot precision, recall, F1 for each genre\n",
        "custom_colors = ['#1e8fff','#ff3c1e','#ffc749']\n",
        "\n",
        "genre_metrics[['precision', 'recall', 'f1-score']].plot(kind='bar', figsize=(12, 6), color= custom_colors)\n",
        "plt.title('Classification Metrics per Genre')\n",
        "plt.xlabel('Genre')\n",
        "plt.ylabel('Score')\n",
        "plt.ylim(0, 1)\n",
        "plt.xticks(rotation=45)\n",
        "plt.tight_layout()\n",
        "plt.show()"
      ],
      "metadata": {
        "colab": {
          "base_uri": "https://localhost:8080/",
          "height": 607
        },
        "id": "j6Y9GiLUVmLI",
        "outputId": "d0c70e79-40a8-42ff-d497-c0c103e1a2e3"
      },
      "execution_count": 17,
      "outputs": [
        {
          "output_type": "display_data",
          "data": {
            "text/plain": [
              "<Figure size 1200x600 with 1 Axes>"
            ],
            "image/png": "[encoded data removed]"
          },
          "metadata": {}
        }
      ]
    }
  ]
}