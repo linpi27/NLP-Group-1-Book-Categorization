{
  "cells": [
    {
      "cell_type": "markdown",
      "metadata": {
        "id": "2Us1oOgeDtNa"
      },
      "source": [
        "## MISTRAL NLP TESTING\n",
        "\n",
        "\n",
        "Run the code below to install the Mistral API."
      ]
    },
    {
      "cell_type": "code",
      "execution_count": 1,
      "metadata": {
        "colab": {
          "base_uri": "https://localhost:8080/"
        },
        "id": "0acbG7EWD2XT",
        "outputId": "59c22283-586c-4a41-e233-e30b7d0a94d3"
      },
      "outputs": [
        {
          "output_type": "stream",
          "name": "stdout",
          "text": [
            "Collecting mistralai\n",
            "  Downloading mistralai-1.7.0-py3-none-any.whl.metadata (30 kB)\n",
            "Collecting eval-type-backport>=0.2.0 (from mistralai)\n",
            "  Downloading eval_type_backport-0.2.2-py3-none-any.whl.metadata (2.2 kB)\n",
            "Requirement already satisfied: httpx>=0.28.1 in /usr/local/lib/python3.11/dist-packages (from mistralai) (0.28.1)\n",
            "Requirement already satisfied: pydantic>=2.10.3 in /usr/local/lib/python3.11/dist-packages (from mistralai) (2.11.4)\n",
            "Requirement already satisfied: python-dateutil>=2.8.2 in /usr/local/lib/python3.11/dist-packages (from mistralai) (2.9.0.post0)\n",
            "Requirement already satisfied: typing-inspection>=0.4.0 in /usr/local/lib/python3.11/dist-packages (from mistralai) (0.4.0)\n",
            "Requirement already satisfied: anyio in /usr/local/lib/python3.11/dist-packages (from httpx>=0.28.1->mistralai) (4.9.0)\n",
            "Requirement already satisfied: certifi in /usr/local/lib/python3.11/dist-packages (from httpx>=0.28.1->mistralai) (2025.4.26)\n",
            "Requirement already satisfied: httpcore==1.* in /usr/local/lib/python3.11/dist-packages (from httpx>=0.28.1->mistralai) (1.0.9)\n",
            "Requirement already satisfied: idna in /usr/local/lib/python3.11/dist-packages (from httpx>=0.28.1->mistralai) (3.10)\n",
            "Requirement already satisfied: h11>=0.16 in /usr/local/lib/python3.11/dist-packages (from httpcore==1.*->httpx>=0.28.1->mistralai) (0.16.0)\n",
            "Requirement already satisfied: annotated-types>=0.6.0 in /usr/local/lib/python3.11/dist-packages (from pydantic>=2.10.3->mistralai) (0.7.0)\n",
            "Requirement already satisfied: pydantic-core==2.33.2 in /usr/local/lib/python3.11/dist-packages (from pydantic>=2.10.3->mistralai) (2.33.2)\n",
            "Requirement already satisfied: typing-extensions>=4.12.2 in /usr/local/lib/python3.11/dist-packages (from pydantic>=2.10.3->mistralai) (4.13.2)\n",
            "Requirement already satisfied: six>=1.5 in /usr/local/lib/python3.11/dist-packages (from python-dateutil>=2.8.2->mistralai) (1.17.0)\n",
            "Requirement already satisfied: sniffio>=1.1 in /usr/local/lib/python3.11/dist-packages (from anyio->httpx>=0.28.1->mistralai) (1.3.1)\n",
            "Downloading mistralai-1.7.0-py3-none-any.whl (301 kB)\n",
            "\u001b[2K   \u001b[90m━━━━━━━━━━━━━━━━━━━━━━━━━━━━━━━━━━━━━━━━\u001b[0m \u001b[32m301.5/301.5 kB\u001b[0m \u001b[31m6.2 MB/s\u001b[0m eta \u001b[36m0:00:00\u001b[0m\n",
            "\u001b[?25hDownloading eval_type_backport-0.2.2-py3-none-any.whl (5.8 kB)\n",
            "Installing collected packages: eval-type-backport, mistralai\n",
            "Successfully installed eval-type-backport-0.2.2 mistralai-1.7.0\n"
          ]
        }
      ],
      "source": [
        "pip install mistralai"
      ]
    },
    {
      "cell_type": "markdown",
      "metadata": {
        "id": "CE-JDvXKD4zb"
      },
      "source": [
        "\n",
        "\n",
        "```\n",
        "# This is formatted as code\n",
        "```\n",
        "\n",
        "\n",
        "##  Mistral Key Entry\n",
        "\n",
        "Here we enter the key for the Mistral LLM. A key can be generated at https://console.mistral.ai/home. Oftentimes the free plan times out so multiple keys from multiple user may have to be used."
      ]
    },
    {
      "cell_type": "code",
      "execution_count": 2,
      "metadata": {
        "id": "Dl2IYdlIAaQp"
      },
      "outputs": [],
      "source": [
        "from mistralai import Mistral\n",
        "\n",
        "# Here is where you need to tell your code your mistral API key.\n",
        "\n",
        "client = Mistral(api_key=\"MRdE92pAOtTm7V7UFTR6KrN0jo5wbqnU\")"
      ]
    },
    {
      "cell_type": "markdown",
      "metadata": {
        "id": "rR7ruTt_LM_Z"
      },
      "source": [
        "## Upload files\n",
        "\n",
        "Here we upload the file we want to work with. Simply run the code and a \"choose files\" button will appear. To run as we did, upload the 1600_strat_samp_test.csv file."
      ]
    },
    {
      "cell_type": "code",
      "execution_count": 4,
      "metadata": {
        "colab": {
          "base_uri": "https://localhost:8080/",
          "height": 74
        },
        "id": "DuFHDV7TDoZv",
        "outputId": "cbc96f86-296d-4a61-f429-cb9d7d0b40fe"
      },
      "outputs": [
        {
          "output_type": "display_data",
          "data": {
            "text/plain": [
              "<IPython.core.display.HTML object>"
            ],
            "text/html": [
              "\n",
              "     <input type=\"file\" id=\"files-a4bf6f48-675f-40f1-acfc-177825f2707f\" name=\"files[]\" multiple disabled\n",
              "        style=\"border:none\" />\n",
              "     <output id=\"result-a4bf6f48-675f-40f1-acfc-177825f2707f\">\n",
              "      Upload widget is only available when the cell has been executed in the\n",
              "      current browser session. Please rerun this cell to enable.\n",
              "      </output>\n",
              "      <script>// Copyright 2017 Google LLC\n",
              "//\n",
              "// Licensed under the Apache License, Version 2.0 (the \"License\");\n",
              "// you may not use this file except in compliance with the License.\n",
              "// You may obtain a copy of the License at\n",
              "//\n",
              "//      http://www.apache.org/licenses/LICENSE-2.0\n",
              "//\n",
              "// Unless required by applicable law or agreed to in writing, software\n",
              "// distributed under the License is distributed on an \"AS IS\" BASIS,\n",
              "// WITHOUT WARRANTIES OR CONDITIONS OF ANY KIND, either express or implied.\n",
              "// See the License for the specific language governing permissions and\n",
              "// limitations under the License.\n",
              "\n",
              "/**\n",
              " * @fileoverview Helpers for google.colab Python module.\n",
              " */\n",
              "(function(scope) {\n",
              "function span(text, styleAttributes = {}) {\n",
              "  const element = document.createElement('span');\n",
              "  element.textContent = text;\n",
              "  for (const key of Object.keys(styleAttributes)) {\n",
              "    element.style[key] = styleAttributes[key];\n",
              "  }\n",
              "  return element;\n",
              "}\n",
              "\n",
              "// Max number of bytes which will be uploaded at a time.\n",
              "const MAX_PAYLOAD_SIZE = 100 * 1024;\n",
              "\n",
              "function _uploadFiles(inputId, outputId) {\n",
              "  const steps = uploadFilesStep(inputId, outputId);\n",
              "  const outputElement = document.getElementById(outputId);\n",
              "  // Cache steps on the outputElement to make it available for the next call\n",
              "  // to uploadFilesContinue from Python.\n",
              "  outputElement.steps = steps;\n",
              "\n",
              "  return _uploadFilesContinue(outputId);\n",
              "}\n",
              "\n",
              "// This is roughly an async generator (not supported in the browser yet),\n",
              "// where there are multiple asynchronous steps and the Python side is going\n",
              "// to poll for completion of each step.\n",
              "// This uses a Promise to block the python side on completion of each step,\n",
              "// then passes the result of the previous step as the input to the next step.\n",
              "function _uploadFilesContinue(outputId) {\n",
              "  const outputElement = document.getElementById(outputId);\n",
              "  const steps = outputElement.steps;\n",
              "\n",
              "  const next = steps.next(outputElement.lastPromiseValue);\n",
              "  return Promise.resolve(next.value.promise).then((value) => {\n",
              "    // Cache the last promise value to make it available to the next\n",
              "    // step of the generator.\n",
              "    outputElement.lastPromiseValue = value;\n",
              "    return next.value.response;\n",
              "  });\n",
              "}\n",
              "\n",
              "/**\n",
              " * Generator function which is called between each async step of the upload\n",
              " * process.\n",
              " * @param {string} inputId Element ID of the input file picker element.\n",
              " * @param {string} outputId Element ID of the output display.\n",
              " * @return {!Iterable<!Object>} Iterable of next steps.\n",
              " */\n",
              "function* uploadFilesStep(inputId, outputId) {\n",
              "  const inputElement = document.getElementById(inputId);\n",
              "  inputElement.disabled = false;\n",
              "\n",
              "  const outputElement = document.getElementById(outputId);\n",
              "  outputElement.innerHTML = '';\n",
              "\n",
              "  const pickedPromise = new Promise((resolve) => {\n",
              "    inputElement.addEventListener('change', (e) => {\n",
              "      resolve(e.target.files);\n",
              "    });\n",
              "  });\n",
              "\n",
              "  const cancel = document.createElement('button');\n",
              "  inputElement.parentElement.appendChild(cancel);\n",
              "  cancel.textContent = 'Cancel upload';\n",
              "  const cancelPromise = new Promise((resolve) => {\n",
              "    cancel.onclick = () => {\n",
              "      resolve(null);\n",
              "    };\n",
              "  });\n",
              "\n",
              "  // Wait for the user to pick the files.\n",
              "  const files = yield {\n",
              "    promise: Promise.race([pickedPromise, cancelPromise]),\n",
              "    response: {\n",
              "      action: 'starting',\n",
              "    }\n",
              "  };\n",
              "\n",
              "  cancel.remove();\n",
              "\n",
              "  // Disable the input element since further picks are not allowed.\n",
              "  inputElement.disabled = true;\n",
              "\n",
              "  if (!files) {\n",
              "    return {\n",
              "      response: {\n",
              "        action: 'complete',\n",
              "      }\n",
              "    };\n",
              "  }\n",
              "\n",
              "  for (const file of files) {\n",
              "    const li = document.createElement('li');\n",
              "    li.append(span(file.name, {fontWeight: 'bold'}));\n",
              "    li.append(span(\n",
              "        `(${file.type || 'n/a'}) - ${file.size} bytes, ` +\n",
              "        `last modified: ${\n",
              "            file.lastModifiedDate ? file.lastModifiedDate.toLocaleDateString() :\n",
              "                                    'n/a'} - `));\n",
              "    const percent = span('0% done');\n",
              "    li.appendChild(percent);\n",
              "\n",
              "    outputElement.appendChild(li);\n",
              "\n",
              "    const fileDataPromise = new Promise((resolve) => {\n",
              "      const reader = new FileReader();\n",
              "      reader.onload = (e) => {\n",
              "        resolve(e.target.result);\n",
              "      };\n",
              "      reader.readAsArrayBuffer(file);\n",
              "    });\n",
              "    // Wait for the data to be ready.\n",
              "    let fileData = yield {\n",
              "      promise: fileDataPromise,\n",
              "      response: {\n",
              "        action: 'continue',\n",
              "      }\n",
              "    };\n",
              "\n",
              "    // Use a chunked sending to avoid message size limits. See b/62115660.\n",
              "    let position = 0;\n",
              "    do {\n",
              "      const length = Math.min(fileData.byteLength - position, MAX_PAYLOAD_SIZE);\n",
              "      const chunk = new Uint8Array(fileData, position, length);\n",
              "      position += length;\n",
              "\n",
              "      const base64 = btoa(String.fromCharCode.apply(null, chunk));\n",
              "      yield {\n",
              "        response: {\n",
              "          action: 'append',\n",
              "          file: file.name,\n",
              "          data: base64,\n",
              "        },\n",
              "      };\n",
              "\n",
              "      let percentDone = fileData.byteLength === 0 ?\n",
              "          100 :\n",
              "          Math.round((position / fileData.byteLength) * 100);\n",
              "      percent.textContent = `${percentDone}% done`;\n",
              "\n",
              "    } while (position < fileData.byteLength);\n",
              "  }\n",
              "\n",
              "  // All done.\n",
              "  yield {\n",
              "    response: {\n",
              "      action: 'complete',\n",
              "    }\n",
              "  };\n",
              "}\n",
              "\n",
              "scope.google = scope.google || {};\n",
              "scope.google.colab = scope.google.colab || {};\n",
              "scope.google.colab._files = {\n",
              "  _uploadFiles,\n",
              "  _uploadFilesContinue,\n",
              "};\n",
              "})(self);\n",
              "</script> "
            ]
          },
          "metadata": {}
        },
        {
          "output_type": "stream",
          "name": "stdout",
          "text": [
            "Saving 1600_strat_samp_test.csv to 1600_strat_samp_test.csv\n"
          ]
        }
      ],
      "source": [
        "from google.colab import files\n",
        "# upload file to be analyzed by LLM.\n",
        "uploaded = files.upload()"
      ]
    },
    {
      "cell_type": "markdown",
      "metadata": {
        "id": "dg-NivsIPolU"
      },
      "source": [
        "This code divides the file into whatever size you need to analyze. Here we have it set to look at the first 400 entries in the 1600_strat_samp_test.csv file, but can be adjusted by changing the parameters in the last line."
      ]
    },
    {
      "cell_type": "code",
      "execution_count": 8,
      "metadata": {
        "id": "dfxW1WlcNG-8"
      },
      "outputs": [],
      "source": [
        "import pandas as pd\n",
        "\n",
        "# load csv into pandas dataframe\n",
        "whole_file = pd.read_csv('1600_strat_samp_test.csv')\n",
        "\n",
        "# Randomly select 100 rows from the DataFrame.\n",
        "sampled_df = whole_file.iloc[:400]"
      ]
    },
    {
      "cell_type": "markdown",
      "metadata": {
        "id": "9XE4GZbFPybo"
      },
      "source": [
        "The usual way to get an LLM to do a task is to give each input as its own request consisting of the instructions for the task and the input. That's what we'll do below.\n",
        "\n",
        "The challenge with Mistral -- and most free or low-cost LLM APIs -- is that it limits how many requests you can make per time period. We will try to get around this by inserting a call to `sleep()` in between each request. We had difficulty getting it to work with over 100 items. Adjusting the sleep() to 10 or 20 did not fix the issue.\n",
        "\n"
      ]
    },
    {
      "cell_type": "code",
      "execution_count": 9,
      "metadata": {
        "colab": {
          "base_uri": "https://localhost:8080/",
          "height": 1000
        },
        "id": "DMgfkJitVg3g",
        "outputId": "00942dcb-fac9-49a4-d27c-2772c722083c",
        "collapsed": true
      },
      "outputs": [
        {
          "output_type": "stream",
          "name": "stdout",
          "text": [
            "Which of the following genres is the book this review is talking about? Answer only with one of the following options. Please do not add any other text under any circumstances. (Fiction, Religion, History, Juvenile Fiction, Biography & Autobiography, Business & Economics, Computers, Social Science, Juvenile Nonfiction, Science, Education, Family & Relationships, Cooking, Sports & Recreation, Literary Criticism, Music): This book was hilarious. I read it yesterday, and I am still laughing my Asimov. Get it? Hahahaha. Huh. Okay. Nevermind. Foundation\n",
            "Foundation\n",
            "Fiction\n",
            "Which of the following genres is the book this review is talking about? Answer only with one of the following options. Please do not add any other text under any circumstances. (Fiction, Religion, History, Juvenile Fiction, Biography & Autobiography, Business & Economics, Computers, Social Science, Juvenile Nonfiction, Science, Education, Family & Relationships, Cooking, Sports & Recreation, Literary Criticism, Music): Jane Eyre was a wonderful experience for me. I too like Jane was faced with challenging start. It is a refreshing remainder that God does answer prayers. All he requires is our faith. Wonderful read!! Jane Eyre\n",
            "Jane Eyre\n",
            "Fiction\n",
            "Which of the following genres is the book this review is talking about? Answer only with one of the following options. Please do not add any other text under any circumstances. (Fiction, Religion, History, Juvenile Fiction, Biography & Autobiography, Business & Economics, Computers, Social Science, Juvenile Nonfiction, Science, Education, Family & Relationships, Cooking, Sports & Recreation, Literary Criticism, Music): I think that every graphitti artist should read this book before defacing a wall. It was written by the designer of the logo for Sun Microsystems and a few others. It is a really facinating book, it shows you how to think the same way as the author, and how to design text that can be read as one word right-side up, and as another up-side down. I highly recommend it.Darius Inversions\n",
            "Inversions\n",
            "Art\n",
            "Which of the following genres is the book this review is talking about? Answer only with one of the following options. Please do not add any other text under any circumstances. (Fiction, Religion, History, Juvenile Fiction, Biography & Autobiography, Business & Economics, Computers, Social Science, Juvenile Nonfiction, Science, Education, Family & Relationships, Cooking, Sports & Recreation, Literary Criticism, Music): As a new widow, I needed help with my grieving. This book contains many helpful ideas. It is divided into logical sections and covers the grieving that I have been experiencing. Grieving the Loss of a Loved One\n",
            "Grieving the Loss of a Loved One\n",
            "Family & Relationships\n",
            "Which of the following genres is the book this review is talking about? Answer only with one of the following options. Please do not add any other text under any circumstances. (Fiction, Religion, History, Juvenile Fiction, Biography & Autobiography, Business & Economics, Computers, Social Science, Juvenile Nonfiction, Science, Education, Family & Relationships, Cooking, Sports & Recreation, Literary Criticism, Music): My five year old was having trouble learning to tie his shoes. We'd show him over and over and even use those cute little rhymes. Nothing ever clicked. This book uses the different colored laces and shows step by step pictures. It also happens to have a little rhyme, but I think the pictures and colored laces did the trick. He did it the very first time and he felt so proud of himself. Red Lace, Yellow Lace\n",
            "Red Lace, Yellow Lace\n",
            "Juvenile Nonfiction\n",
            "Which of the following genres is the book this review is talking about? Answer only with one of the following options. Please do not add any other text under any circumstances. (Fiction, Religion, History, Juvenile Fiction, Biography & Autobiography, Business & Economics, Computers, Social Science, Juvenile Nonfiction, Science, Education, Family & Relationships, Cooking, Sports & Recreation, Literary Criticism, Music): They were honest about how they described the book and I appreciated that. It was clean and in good condition. Fast shipping. Definitely would by from them again! Biology, 6th Edition\n",
            "Biology, 6th Edition\n",
            "Science\n",
            "Which of the following genres is the book this review is talking about? Answer only with one of the following options. Please do not add any other text under any circumstances. (Fiction, Religion, History, Juvenile Fiction, Biography & Autobiography, Business & Economics, Computers, Social Science, Juvenile Nonfiction, Science, Education, Family & Relationships, Cooking, Sports & Recreation, Literary Criticism, Music): I had to read this book this summer for a school assignment. This was a great coming-of-age book in the 1800s. I found it rather interesting. My mom said I'd like it if I liked Little Women (which I totally despised). This story was about a girl named Jane Eyre from when she was in her aunt's orphanage 'till she married. She was abused at her aut's orphange. Soon she went of to Lowood's School for Girls and became a teacher for her last 2 years. She then became a governess at Thornfield after she left school. Soon, she fell in love with the master of the place. Then, she left and became poor and homeless, but then found a job from the person she stayed with and a lot of other things happened, but that's all I'll tell you, because then you won't want to read it. Jane Eyre\n",
            "Jane Eyre\n",
            "Fiction\n",
            "Which of the following genres is the book this review is talking about? Answer only with one of the following options. Please do not add any other text under any circumstances. (Fiction, Religion, History, Juvenile Fiction, Biography & Autobiography, Business & Economics, Computers, Social Science, Juvenile Nonfiction, Science, Education, Family & Relationships, Cooking, Sports & Recreation, Literary Criticism, Music): I have the 5th edition of this book and I find it excellent. I was looking through the reviews and I found one reviewer who didn't share the view of evolution...I don't know if this guy was serious or not, because to me it sounded too far out. Now, I'm not gonna sit here and say evolution is right. Evolution is a theory, a theory that is supported by some evidence. The idea is pretty good, but doesn't mean it is right. Theories come and go. The information is presented, it is up to the reader to determine whether they believe in it or not. I don't care if you don't, just don't be a hypocrite about it. This guy (who hails from the Garden of Eden (such arrogance, no?) says that evolution is fed down the throughts of children and that the real knowledge must be given...Isn't telling children your belief without thought to anything else the same type of force feeding textbook authors do? I'm sorry to not really review the book, it's just arrogant religious zealots piss me off. I don't care about what you believe in, just love your neighbor and don't be a hypocrite.Back to the book: I used the 5th edition in AP and it was the best book I have ever seen. This text combined with my teacher helped me get a 5 on the AP exam, and that was a blessing seeing how I hear so many smart people here at my college are having trouble getting a good grade in the class. It has EXCELLENT diagrams and the biology is SOOOOOOO comprehensive. Get this book and keep it if you are in any life science major. Biology, 6th Edition\n",
            "Biology, 6th Edition\n",
            "Science\n",
            "Which of the following genres is the book this review is talking about? Answer only with one of the following options. Please do not add any other text under any circumstances. (Fiction, Religion, History, Juvenile Fiction, Biography & Autobiography, Business & Economics, Computers, Social Science, Juvenile Nonfiction, Science, Education, Family & Relationships, Cooking, Sports & Recreation, Literary Criticism, Music): I had to purchase this book for my daughter's AP Biology class. The book was just as described. Excellent condition and everything included. I received the shipment promptly. Biology, 6th Edition\n",
            "Biology, 6th Edition\n",
            "Science\n",
            "Which of the following genres is the book this review is talking about? Answer only with one of the following options. Please do not add any other text under any circumstances. (Fiction, Religion, History, Juvenile Fiction, Biography & Autobiography, Business & Economics, Computers, Social Science, Juvenile Nonfiction, Science, Education, Family & Relationships, Cooking, Sports & Recreation, Literary Criticism, Music): Now in an updated and expanded second edition, Sculpting Her Body Perfect by leading physical fitness expert Brad Schoenfeld offers 120 exercises especially designed for women seeking to improve their personal physical fitness and muscle tone for a better figure and a healthier life. Thoroughly &quot;user friendly&quot; step-by-step instructions enhanced with extensive black-and-white photographs fill out this excellent and highly recommended instructional guide to tailoring an effective physical workout for any woman regardless of age, background, or physical condition. Sculpting Her Body Perfect\n",
            "Sculpting Her Body Perfect\n",
            "Sports & Recreation\n",
            "Which of the following genres is the book this review is talking about? Answer only with one of the following options. Please do not add any other text under any circumstances. (Fiction, Religion, History, Juvenile Fiction, Biography & Autobiography, Business & Economics, Computers, Social Science, Juvenile Nonfiction, Science, Education, Family & Relationships, Cooking, Sports & Recreation, Literary Criticism, Music): this is a great book , with lots of pictures and it goes in to very good detail , it tells and shows you how to do alot of things from practicing the art of invisibility and learning how to be out of your targets line of sight , and what spots to attack and tells you and shows you how to attack them and shows you and tells you the right footwork , and gives you alot of very helpful exercises to do , its a great book , you should buy it while you have a chance !!! Ninja Shadowhand: The Art of Invisibility\n",
            "Ninja Shadowhand: The Art of Invisibility\n",
            "Sports & Recreation\n",
            "Which of the following genres is the book this review is talking about? Answer only with one of the following options. Please do not add any other text under any circumstances. (Fiction, Religion, History, Juvenile Fiction, Biography & Autobiography, Business & Economics, Computers, Social Science, Juvenile Nonfiction, Science, Education, Family & Relationships, Cooking, Sports & Recreation, Literary Criticism, Music): I'm not sure what made me - at 37 - decide to read Jane Eyre. It's obviously been around my whole life. And it seems like the type of book I should have been forced to read -- if not in high school then surely in college. But I'm so glad I finally got around to it.Jane thoroughly frustrated me throughout the book and I actually found myself yelling at the book in much the same way I yell at the Buffalo Bills whenever they do something stupid (every game they play). I also found myself hoping for certain outcomes which is funny considering the ending was written oh so long ago.Jane Eyre is a love story. But more than that, its a story of perseverance, and dedication to principles.About half way through, I convinced my 15-year-old daughter that she had to read it -- just so I would have someone to talk to about it ... and because I knew she'd love it like I do. Jane Eyre\n",
            "Jane Eyre\n",
            "Fiction\n",
            "Which of the following genres is the book this review is talking about? Answer only with one of the following options. Please do not add any other text under any circumstances. (Fiction, Religion, History, Juvenile Fiction, Biography & Autobiography, Business & Economics, Computers, Social Science, Juvenile Nonfiction, Science, Education, Family & Relationships, Cooking, Sports & Recreation, Literary Criticism, Music): The book was wonderful and my son learned how to tie his shoes within 2 days of receiveing the book. Red Lace, Yellow Lace\n",
            "Red Lace, Yellow Lace\n",
            "Juvenile Nonfiction\n",
            "Which of the following genres is the book this review is talking about? Answer only with one of the following options. Please do not add any other text under any circumstances. (Fiction, Religion, History, Juvenile Fiction, Biography & Autobiography, Business & Economics, Computers, Social Science, Juvenile Nonfiction, Science, Education, Family & Relationships, Cooking, Sports & Recreation, Literary Criticism, Music): The best book I have read on miscarriage so far. Grieving the Child I Never Knew\n",
            "Grieving the Child I Never Knew\n",
            "Family & Relationships\n",
            "Which of the following genres is the book this review is talking about? Answer only with one of the following options. Please do not add any other text under any circumstances. (Fiction, Religion, History, Juvenile Fiction, Biography & Autobiography, Business & Economics, Computers, Social Science, Juvenile Nonfiction, Science, Education, Family & Relationships, Cooking, Sports & Recreation, Literary Criticism, Music): Very impressed with how much was packed into this recipe book! Wish that it was spiral bound. It made a great gift. The Bread Lover's Bread Machine Cookbook: A Master Baker's 300 Favorite Recipes for Perfect-Every-Time Bread-From Every Kind of Machine\n",
            "The Bread Lover's Bread Machine Cookbook: A Master Baker's 300 Favorite Recipes for Perfect-Every-Time Bread-From Every Kind of Machine\n",
            "Cooking\n",
            "Which of the following genres is the book this review is talking about? Answer only with one of the following options. Please do not add any other text under any circumstances. (Fiction, Religion, History, Juvenile Fiction, Biography & Autobiography, Business & Economics, Computers, Social Science, Juvenile Nonfiction, Science, Education, Family & Relationships, Cooking, Sports & Recreation, Literary Criticism, Music): This cassette has musically rich tunes with sound, biblical lyrics. Judy Rogers uses mostly guitar with her songs. She has a very pleasant-sounding voice. She comes from a Reformed background - each song is well-written and pure in its doctrine. This tape has songs encouraging children to enjoy their work, to keep their conversation edifying and to listen to the words of their parents. My children have grown up listening to her many tapes - this one is for the younger ones, say ages 3 to 10. I have bought over a dozen copies as birthday gifts for friends of mine. Enjoy! Go to the Ant\n",
            "Go to the Ant\n",
            "Religion\n",
            "Which of the following genres is the book this review is talking about? Answer only with one of the following options. Please do not add any other text under any circumstances. (Fiction, Religion, History, Juvenile Fiction, Biography & Autobiography, Business & Economics, Computers, Social Science, Juvenile Nonfiction, Science, Education, Family & Relationships, Cooking, Sports & Recreation, Literary Criticism, Music): This book is a deviation from the author's usual books about complex cosmological issues. The Discovery of Subatomic Particles is accessible to anyone, an easy read revealing much about scientific method. It's more a history of how scientists and physicists with rather rudimentary tools devised innovative ways to probe and measure atomic particles with surprisingly accurate results. This book will be appreciated by the mechanically inclined. For the mathematically inclined, you will see in the appendices calculations developed in such a way that requires only a basic background in algebra to understand.The author guides the reader through the history of processes that refined our understanding of the subatomic world. The subject matter is covered in a logical timeline progression and consistent format. Quantum theory is outside the scope of this book, but Niels Bohr is included in the history for using some of the discoveries to formulate his view of electron dynamics. The reader will gain a higher appreciation of how much can be measured and discovered using the basic tools and instruments available at a given level of scientific development.Extensive appendices amount to a concise development of fundamental physics, itself creating much value owning this book. My favorite appendix has the author describing how much of Rutherford's formula for the scattering of alpha particles can be derived through simple dimensional analysis, continuing the historic application of basic tools to analyze, measure, and discover subatomic particles. The appendices give the technical details supporting much of the scientific development described so well in the main text. Steven Weinberg's book, The Discovery of Subatomic Particles, is an easy read that can be appreciated by anyone. The Discovery Of Subatomic Particles (Scientific American Library Series)\n",
            "The Discovery Of Subatomic Particles (Scientific American Library Series)\n",
            "Science\n",
            "Which of the following genres is the book this review is talking about? Answer only with one of the following options. Please do not add any other text under any circumstances. (Fiction, Religion, History, Juvenile Fiction, Biography & Autobiography, Business & Economics, Computers, Social Science, Juvenile Nonfiction, Science, Education, Family & Relationships, Cooking, Sports & Recreation, Literary Criticism, Music): The research and time but into this indepth overview of the first century of jazz is absolutely remarkable. Discussing the most influential and popular jazz artists of the century, this book gives insight into the artists and their music as well. Absolutely outstanding! Visions of Jazz: The First Century\n",
            "Visions of Jazz: The First Century\n",
            "Music\n",
            "Which of the following genres is the book this review is talking about? Answer only with one of the following options. Please do not add any other text under any circumstances. (Fiction, Religion, History, Juvenile Fiction, Biography & Autobiography, Business & Economics, Computers, Social Science, Juvenile Nonfiction, Science, Education, Family & Relationships, Cooking, Sports & Recreation, Literary Criticism, Music): Technical Analysis of Stock Trends is considered to be the Bible of Technical Analysis. I would revise that to say that it's the Bible of chart pattern analysis, because it doesn't go into modern technical analysis methods (indicators etc.). At any rate, it's a comprehensive book on classical technical analysis (that being chart patterns).The main down sides to this book are that it's a dry read and it lacks an evidence-based approach. What I mean by that last part is that many times the authors simply say \"in our opinion this is so\" or \"in our experience we find that this happens.\" That really equates to a focus group of one and can be a recipe for causality errors/confusion. You're essentially left with having to take the authors word for it.At any rate, it's an in-depth, detailed review of chart patterns, thus a valuable resource for those interested in an in-depth study of TA. But, I wouldn't base my investment decisions based solely on this book and it's not the only book that I would use to study TA. Technical analysis of stock trends,\n",
            "Technical analysis of stock trends,\n",
            "Business & Economics\n",
            "Which of the following genres is the book this review is talking about? Answer only with one of the following options. Please do not add any other text under any circumstances. (Fiction, Religion, History, Juvenile Fiction, Biography & Autobiography, Business & Economics, Computers, Social Science, Juvenile Nonfiction, Science, Education, Family & Relationships, Cooking, Sports & Recreation, Literary Criticism, Music): Reading the back cover, I had high hopes of this novel. However, what could have been a thoughtful, ironic, heartwarming story quickly became plotless and one-dimensional. Do Patty's parents really possess no good qualities whatsoever? Is Anton really the saint he seems? This novel makes no attempt to answer any of these questions, and that's what makes it so painful to read. Patty, who is clearly intended to be the endearing heroine, comes off as a know-it-all with a total disregard for rules and boundaries. Also, doesn't a seemingly romantic relationship between a 12-year-old and a 19-year-old feel questionable at the very least? Add this to the fact that there is absolutely no conclusion, and we have a recipe for one terrible novel. I could go on for ages, but here's the bottom line: do not waste your time with Summer of My German Soldier. Summer of My German Soldier\n",
            "Summer of My German Soldier\n",
            "Fiction\n",
            "Which of the following genres is the book this review is talking about? Answer only with one of the following options. Please do not add any other text under any circumstances. (Fiction, Religion, History, Juvenile Fiction, Biography & Autobiography, Business & Economics, Computers, Social Science, Juvenile Nonfiction, Science, Education, Family & Relationships, Cooking, Sports & Recreation, Literary Criticism, Music): This is a must read for every female! I'm going to give it to my daughter when she's ready to date. Why Men Love Bitches: From Doormat to Dreamgirl - A Woman's Guide to Holding Her Own in a Relationship\n",
            "Why Men Love Bitches: From Doormat to Dreamgirl - A Woman's Guide to Holding Her Own in a Relationship\n",
            "Family & Relationships\n",
            "Which of the following genres is the book this review is talking about? Answer only with one of the following options. Please do not add any other text under any circumstances. (Fiction, Religion, History, Juvenile Fiction, Biography & Autobiography, Business & Economics, Computers, Social Science, Juvenile Nonfiction, Science, Education, Family & Relationships, Cooking, Sports & Recreation, Literary Criticism, Music): I found this to be a good read, and helpful to me in my own recent loss. She speaks out of the depths of several personal losses, but also with a breadth of experience. Worth the money. Grieving the Loss of a Loved One\n",
            "Grieving the Loss of a Loved One\n",
            "Family & Relationships\n"
          ]
        },
        {
          "output_type": "error",
          "ename": "SDKError",
          "evalue": "API error occurred: Status 429\n{\"object\":\"error\",\"message\":\"Service tier capacity exceeded for this model.\",\"type\":\"invalid_request_error\",\"param\":null,\"code\":null}",
          "traceback": [
            "\u001b[0;31m---------------------------------------------------------------------------\u001b[0m",
            "\u001b[0;31mSDKError\u001b[0m                                  Traceback (most recent call last)",
            "\u001b[0;32m<ipython-input-9-6f7e02e33834>\u001b[0m in \u001b[0;36m<cell line: 0>\u001b[0;34m()\u001b[0m\n\u001b[1;32m     20\u001b[0m \u001b[0;34m\u001b[0m\u001b[0m\n\u001b[1;32m     21\u001b[0m   \u001b[0;31m# This the call to Mistral with that prompt.\u001b[0m\u001b[0;34m\u001b[0m\u001b[0;34m\u001b[0m\u001b[0m\n\u001b[0;32m---> 22\u001b[0;31m   completion = client.chat.complete(\n\u001b[0m\u001b[1;32m     23\u001b[0m       \u001b[0mmodel\u001b[0m\u001b[0;34m=\u001b[0m \u001b[0mMODEL\u001b[0m\u001b[0;34m,\u001b[0m\u001b[0;34m\u001b[0m\u001b[0;34m\u001b[0m\u001b[0m\n\u001b[1;32m     24\u001b[0m       \u001b[0mmessages\u001b[0m \u001b[0;34m=\u001b[0m \u001b[0mMESSAGES\u001b[0m\u001b[0;34m\u001b[0m\u001b[0;34m\u001b[0m\u001b[0m\n",
            "\u001b[0;32m/usr/local/lib/python3.11/dist-packages/mistralai/chat.py\u001b[0m in \u001b[0;36mcomplete\u001b[0;34m(self, model, messages, temperature, top_p, max_tokens, stream, stop, random_seed, response_format, tools, tool_choice, presence_penalty, frequency_penalty, n, prediction, parallel_tool_calls, safe_prompt, retries, server_url, timeout_ms, http_headers)\u001b[0m\n\u001b[1;32m    241\u001b[0m         \u001b[0;32mif\u001b[0m \u001b[0mutils\u001b[0m\u001b[0;34m.\u001b[0m\u001b[0mmatch_response\u001b[0m\u001b[0;34m(\u001b[0m\u001b[0mhttp_res\u001b[0m\u001b[0;34m,\u001b[0m \u001b[0;34m\"4XX\"\u001b[0m\u001b[0;34m,\u001b[0m \u001b[0;34m\"*\"\u001b[0m\u001b[0;34m)\u001b[0m\u001b[0;34m:\u001b[0m\u001b[0;34m\u001b[0m\u001b[0;34m\u001b[0m\u001b[0m\n\u001b[1;32m    242\u001b[0m             \u001b[0mhttp_res_text\u001b[0m \u001b[0;34m=\u001b[0m \u001b[0mutils\u001b[0m\u001b[0;34m.\u001b[0m\u001b[0mstream_to_text\u001b[0m\u001b[0;34m(\u001b[0m\u001b[0mhttp_res\u001b[0m\u001b[0;34m)\u001b[0m\u001b[0;34m\u001b[0m\u001b[0;34m\u001b[0m\u001b[0m\n\u001b[0;32m--> 243\u001b[0;31m             raise models.SDKError(\n\u001b[0m\u001b[1;32m    244\u001b[0m                 \u001b[0;34m\"API error occurred\"\u001b[0m\u001b[0;34m,\u001b[0m \u001b[0mhttp_res\u001b[0m\u001b[0;34m.\u001b[0m\u001b[0mstatus_code\u001b[0m\u001b[0;34m,\u001b[0m \u001b[0mhttp_res_text\u001b[0m\u001b[0;34m,\u001b[0m \u001b[0mhttp_res\u001b[0m\u001b[0;34m\u001b[0m\u001b[0;34m\u001b[0m\u001b[0m\n\u001b[1;32m    245\u001b[0m             )\n",
            "\u001b[0;31mSDKError\u001b[0m: API error occurred: Status 429\n{\"object\":\"error\",\"message\":\"Service tier capacity exceeded for this model.\",\"type\":\"invalid_request_error\",\"param\":null,\"code\":null}"
          ]
        }
      ],
      "source": [
        "# We need the time library to sleep() between requests.\n",
        "import time\n",
        "MODEL = \"mistral-large-latest\"\n",
        "\n",
        "# Where we will store results\n",
        "predictions = []\n",
        "\n",
        "# Loop through the items in the subset of 400 items we made above.\n",
        "for index, row in sampled_df.iterrows():\n",
        "  text = row['review/text']\n",
        "  title = row['Title']\n",
        "\n",
        "  # Create the prompt\n",
        "  prompt = f\"Which of the following genres is the book this review is talking about? Answer only with one of the following options. Please do not add any other text under any circumstances. (Fiction, Religion, History, Juvenile Fiction, Biography & Autobiography, Business & Economics, Computers, Social Science, Juvenile Nonfiction, Science, Education, Family & Relationships, Cooking, Sports & Recreation, Literary Criticism, Music): {text} {title}\"\n",
        "\n",
        "  # Put it in the MESSAGES variable that will get passed\n",
        "  # to Mistral.\n",
        "  MESSAGES = [{\"role\": \"user\", \"content\": prompt}]\n",
        "\n",
        "  # This the call to Mistral with that prompt.\n",
        "  completion = client.chat.complete(\n",
        "      model= MODEL,\n",
        "      messages = MESSAGES\n",
        "  )\n",
        "\n",
        "  # This prints the prompt:\n",
        "  print(prompt)\n",
        "  print(title)\n",
        "\n",
        "  # This prints out the response\n",
        "  print(completion.choices[0].message.content)\n",
        "\n",
        "  # This saves out the response to our list of predictions so that\n",
        "  # we can evaluate the predictions of the LLM in the next code block.\n",
        "  predictions.append(completion.choices[0].message.content)\n",
        "\n",
        "  # This will pause the execution for 5 seconds so that we don't\n",
        "  # exceed our rate limit with Mistral\n",
        "  time.sleep(5)\n"
      ]
    },
    {
      "cell_type": "markdown",
      "metadata": {
        "id": "5qD8BDnFc_6V"
      },
      "source": [
        "# Evaluate the LLM output\n",
        "This code evaluates the precision, accuracy, recall, and F1 score for our results."
      ]
    },
    {
      "cell_type": "code",
      "execution_count": 7,
      "metadata": {
        "colab": {
          "base_uri": "https://localhost:8080/"
        },
        "id": "Y7as0Hbud3yo",
        "outputId": "4213bac1-e566-4256-e813-61e204cff7a9"
      },
      "outputs": [
        {
          "output_type": "stream",
          "name": "stdout",
          "text": [
            "                           precision    recall  f1-score   support\n",
            "\n",
            "Biography & Autobiography       0.67      1.00      0.80         4\n",
            "     Business & Economics       1.00      0.86      0.92         7\n",
            "                Computers       0.83      1.00      0.91         5\n",
            "                  Cooking       1.00      0.83      0.91         6\n",
            "                Education       0.00      0.00      0.00         0\n",
            "   Family & Relationships       1.00      0.75      0.86         8\n",
            "                  Fiction       1.00      0.20      0.33        25\n",
            "                  History       1.00      0.88      0.93         8\n",
            "         Juvenile Fiction       0.50      0.50      0.50         4\n",
            "      Juvenile Nonfiction       0.83      1.00      0.91         5\n",
            "       Literary Criticism       0.00      0.00      0.00         0\n",
            "                    Music       1.00      1.00      1.00         3\n",
            "                 Religion       0.75      1.00      0.86         6\n",
            "                  Science       0.88      0.88      0.88         8\n",
            "           Social Science       0.67      1.00      0.80         2\n",
            "      Sports & Recreation       0.90      1.00      0.95         9\n",
            "\n",
            "                 accuracy                           0.72       100\n",
            "                macro avg       0.75      0.74      0.72       100\n",
            "             weighted avg       0.91      0.72      0.74       100\n",
            "\n"
          ]
        },
        {
          "output_type": "stream",
          "name": "stderr",
          "text": [
            "/usr/local/lib/python3.11/dist-packages/sklearn/metrics/_classification.py:1565: UndefinedMetricWarning: Recall is ill-defined and being set to 0.0 in labels with no true samples. Use `zero_division` parameter to control this behavior.\n",
            "  _warn_prf(average, modifier, f\"{metric.capitalize()} is\", len(result))\n",
            "/usr/local/lib/python3.11/dist-packages/sklearn/metrics/_classification.py:1565: UndefinedMetricWarning: Recall is ill-defined and being set to 0.0 in labels with no true samples. Use `zero_division` parameter to control this behavior.\n",
            "  _warn_prf(average, modifier, f\"{metric.capitalize()} is\", len(result))\n",
            "/usr/local/lib/python3.11/dist-packages/sklearn/metrics/_classification.py:1565: UndefinedMetricWarning: Recall is ill-defined and being set to 0.0 in labels with no true samples. Use `zero_division` parameter to control this behavior.\n",
            "  _warn_prf(average, modifier, f\"{metric.capitalize()} is\", len(result))\n"
          ]
        }
      ],
      "source": [
        "from sklearn.metrics import classification_report\n",
        "\n",
        "# Create a list of the genres that should be possible\n",
        "valid_genres = {\n",
        "    \"Fiction\", \"Religion\", \"History\", \"Juvenile Fiction\", \"Biography & Autobiography\",\n",
        "    \"Business & Economics\", \"Computers\", \"Social Science\", \"Juvenile Nonfiction\",\n",
        "    \"Science\", \"Education\", \"Family & Relationships\", \"Cooking\", \"Sports & Recreation\", \"Literary Criticism\", \"Music\"\n",
        "}\n",
        "\n",
        "# Get rid of genres that were halucinated and put them in the unknown category\n",
        "filtered_predictions = [p.strip() if p.strip() in valid_genres else \"Unknown\" for p in predictions]\n",
        "\n",
        "\n",
        "# print a classification report\n",
        "print(classification_report(filtered_predictions, sampled_df[\"categories\"]))"
      ]
    }
  ],
  "metadata": {
    "colab": {
      "provenance": []
    },
    "kernelspec": {
      "display_name": "Python 3",
      "name": "python3"
    },
    "language_info": {
      "name": "python"
    }
  },
  "nbformat": 4,
  "nbformat_minor": 0
}